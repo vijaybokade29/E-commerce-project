{
 "cells": [
  {
   "cell_type": "code",
   "execution_count": 3,
   "metadata": {},
   "outputs": [
    {
     "name": "stdout",
     "output_type": "stream",
     "text": [
      "1\n",
      "2\n",
      "3\n",
      "4\n",
      "5\n",
      "6\n",
      "7\n",
      "8\n",
      "9\n",
      "10\n"
     ]
    }
   ],
   "source": [
    "co = 1\n",
    "while co<=10:\n",
    "    print(co)\n",
    "    co+=1\n",
    "    "
   ]
  },
  {
   "cell_type": "code",
   "execution_count": 12,
   "metadata": {},
   "outputs": [
    {
     "name": "stdout",
     "output_type": "stream",
     "text": [
      "the islower condition for H is : False\n",
      "the isnumeric condition for H is : False\n",
      "the islower condition for e is : True\n",
      "the isnumeric condition for e is : False\n",
      "the islower condition for l is : True\n",
      "the isnumeric condition for l is : False\n",
      "the islower condition for l is : True\n",
      "the isnumeric condition for l is : False\n",
      "the islower condition for o is : True\n",
      "the isnumeric condition for o is : False\n",
      "the islower condition for   is : False\n",
      "the isnumeric condition for   is : False\n",
      "the islower condition for I is : False\n",
      "the isnumeric condition for I is : False\n",
      "the islower condition for   is : False\n",
      "the isnumeric condition for   is : False\n",
      "the islower condition for a is : True\n",
      "the isnumeric condition for a is : False\n",
      "the islower condition for m is : True\n",
      "the isnumeric condition for m is : False\n",
      "the islower condition for   is : False\n",
      "the isnumeric condition for   is : False\n",
      "the islower condition for A is : False\n",
      "the isnumeric condition for A is : False\n",
      "the islower condition for n is : True\n",
      "the isnumeric condition for n is : False\n",
      "the islower condition for k is : True\n",
      "the isnumeric condition for k is : False\n",
      "the islower condition for i is : True\n",
      "the isnumeric condition for i is : False\n",
      "the islower condition for t is : True\n",
      "the isnumeric condition for t is : False\n",
      "the islower condition for   is : False\n",
      "the isnumeric condition for   is : False\n",
      "the islower condition for a is : True\n",
      "the isnumeric condition for a is : False\n",
      "the islower condition for n is : True\n",
      "the isnumeric condition for n is : False\n",
      "the islower condition for d is : True\n",
      "the isnumeric condition for d is : False\n",
      "the islower condition for   is : False\n",
      "the isnumeric condition for   is : False\n",
      "the islower condition for m is : True\n",
      "the isnumeric condition for m is : False\n",
      "the islower condition for y is : True\n",
      "the isnumeric condition for y is : False\n",
      "the islower condition for   is : False\n",
      "the isnumeric condition for   is : False\n",
      "the islower condition for n is : True\n",
      "the isnumeric condition for n is : False\n",
      "the islower condition for u is : True\n",
      "the isnumeric condition for u is : False\n",
      "the islower condition for m is : True\n",
      "the isnumeric condition for m is : False\n",
      "the islower condition for b is : True\n",
      "the isnumeric condition for b is : False\n",
      "the islower condition for e is : True\n",
      "the isnumeric condition for e is : False\n",
      "the islower condition for r is : True\n",
      "the isnumeric condition for r is : False\n",
      "the islower condition for   is : False\n",
      "the isnumeric condition for   is : False\n",
      "the islower condition for i is : True\n",
      "the isnumeric condition for i is : False\n",
      "the islower condition for s is : True\n",
      "the isnumeric condition for s is : False\n",
      "the islower condition for   is : False\n",
      "the isnumeric condition for   is : False\n",
      "the islower condition for 7 is : False\n",
      "the isnumeric condition for 7 is : True\n",
      "the islower condition for 5 is : False\n",
      "the isnumeric condition for 5 is : True\n",
      "the islower condition for 7 is : False\n",
      "the isnumeric condition for 7 is : True\n",
      "the islower condition for 5 is : False\n",
      "the isnumeric condition for 5 is : True\n",
      "the islower condition for 7 is : False\n",
      "the isnumeric condition for 7 is : True\n",
      "the islower condition for 4 is : False\n",
      "the isnumeric condition for 4 is : True\n",
      "the islower condition for 7 is : False\n",
      "the isnumeric condition for 7 is : True\n",
      "the islower condition for 4 is : False\n",
      "the isnumeric condition for 4 is : True\n",
      "the islower condition for 5 is : False\n",
      "the isnumeric condition for 5 is : True\n",
      "the islower condition for 4 is : False\n",
      "the isnumeric condition for 4 is : True\n",
      "end of loop\n"
     ]
    }
   ],
   "source": [
    "name =  'Hello I am Ankit and my number is 7575747454'\n",
    "\n",
    "\n",
    "num = len(name)\n",
    "count = 0\n",
    "\n",
    "while count < num:\n",
    "    res = name[count].islower()\n",
    "    num_res = name[count].isnumeric()\n",
    "    print(f'the islower condition for {name[count]} is :',res)\n",
    "    print(f'the isnumeric condition for {name[count]} is :',num_res)\n",
    "    count+=1\n",
    "else:\n",
    "    print('end of loop')"
   ]
  },
  {
   "cell_type": "code",
   "execution_count": 15,
   "metadata": {},
   "outputs": [
    {
     "name": "stdout",
     "output_type": "stream",
     "text": [
      "-1\n"
     ]
    }
   ],
   "source": [
    "while True:\n",
    "  number = int(input(\"Enter a positive number: \"))\n",
    "  print(number)\n",
    "  if not number > 0:\n",
    "    break\n"
   ]
  },
  {
   "cell_type": "code",
   "execution_count": 17,
   "metadata": {},
   "outputs": [
    {
     "name": "stdout",
     "output_type": "stream",
     "text": [
      "2\n",
      "4\n",
      "6\n"
     ]
    }
   ],
   "source": [
    "for i in range(2,8,2):\n",
    "    print(i)"
   ]
  },
  {
   "cell_type": "code",
   "execution_count": 35,
   "metadata": {},
   "outputs": [
    {
     "name": "stdout",
     "output_type": "stream",
     "text": [
      "\n",
      "John Doe: 123-456-7890,\n",
      "Alice Smith: 987-654-3210,\n",
      "Bob Johnson: 555-123-4567,\n",
      "Emily Davis: 888-555-1234,\n",
      "Michael Brown: 777-999-8888,\n",
      "\n",
      "['\\nJohn Doe: 123-456-7890', '\\nAlice Smith: 987-654-3210', '\\nBob Johnson: 555-123-4567', '\\nEmily Davis: 888-555-1234', '\\nMichael Brown: 777-999-8888', '\\n']\n",
      "1234567890\n",
      "9876543210\n",
      "5551234567\n",
      "8885551234\n",
      "7779998888\n",
      "\n"
     ]
    }
   ],
   "source": [
    "user_contacts = \"\"\"\n",
    "John Doe: 123-456-7890,\n",
    "Alice Smith: 987-654-3210,\n",
    "Bob Johnson: 555-123-4567,\n",
    "Emily Davis: 888-555-1234,\n",
    "Michael Brown: 777-999-8888,\n",
    "\"\"\"\n",
    "print(user_contacts)\n",
    "contact_list = user_contacts.split(',')\n",
    "print(contact_list)\n",
    "num_str1 = ''\n",
    "for i in contact_list:\n",
    "    for ii in i:\n",
    "        if ii.isnumeric():\n",
    "            num_str1+=ii\n",
    "    print(num_str1)\n",
    "    num_str1=''\n"
   ]
  },
  {
   "cell_type": "code",
   "execution_count": 36,
   "metadata": {},
   "outputs": [
    {
     "name": "stdout",
     "output_type": "stream",
     "text": [
      "3\n",
      "2\n",
      "1\n"
     ]
    }
   ],
   "source": [
    "for i in range(3,0,-1):\n",
    "    print(i)"
   ]
  },
  {
   "cell_type": "code",
   "execution_count": 37,
   "metadata": {},
   "outputs": [
    {
     "data": {
      "text/plain": [
       "'Thank you for visit!'"
      ]
     },
     "execution_count": 37,
     "metadata": {},
     "output_type": "execute_result"
    }
   ],
   "source": [
    "# form :\n",
    "a = input('enter name: ')\n",
    "b = input('enter no: ')\n",
    "'Hello user_name Good evening !your number is user_number '\n",
    "\"Thank you for visit!\"\n",
    "    "
   ]
  },
  {
   "cell_type": "code",
   "execution_count": 42,
   "metadata": {},
   "outputs": [
    {
     "name": "stdout",
     "output_type": "stream",
     "text": [
      "(1, 1) (1, 2) (1, 3) \n",
      "(2, 1) (2, 2) (2, 3) \n",
      "(3, 1) (3, 2) (3, 3) \n",
      "(4, 1) (4, 2) (4, 3) \n",
      "(5, 1) (5, 2) (5, 3) \n"
     ]
    }
   ],
   "source": [
    "row = 1\n",
    "while row<=5:\n",
    "    # print(row)\n",
    "    col=1\n",
    "    while col<=3:\n",
    "        print(f\"({row}, {col})\", end=\" \")\n",
    "        col+=1\n",
    "    print()\n",
    "    row+=1\n",
    "    \n",
    "    \n",
    "    "
   ]
  },
  {
   "cell_type": "code",
   "execution_count": 45,
   "metadata": {},
   "outputs": [
    {
     "data": {
      "text/plain": [
       "Decimal('30000.00')"
      ]
     },
     "execution_count": 45,
     "metadata": {},
     "output_type": "execute_result"
    }
   ],
   "source": [
    "from decimal import Decimal\n",
    "(Decimal('10000.00'))*3"
   ]
  }
 ],
 "metadata": {
  "kernelspec": {
   "display_name": "Python 3",
   "language": "python",
   "name": "python3"
  },
  "language_info": {
   "codemirror_mode": {
    "name": "ipython",
    "version": 3
   },
   "file_extension": ".py",
   "mimetype": "text/x-python",
   "name": "python",
   "nbconvert_exporter": "python",
   "pygments_lexer": "ipython3",
   "version": "3.10.12"
  }
 },
 "nbformat": 4,
 "nbformat_minor": 2
}
